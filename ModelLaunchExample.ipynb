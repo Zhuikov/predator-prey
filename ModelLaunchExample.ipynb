{
 "cells": [
  {
   "cell_type": "code",
   "execution_count": 15,
   "metadata": {
    "collapsed": false
   },
   "outputs": [],
   "source": [
    "import subprocess\n",
    "result = subprocess.run([\"pp-model\"], stdout=subprocess.PIPE)"
   ]
  },
  {
   "cell_type": "code",
   "execution_count": 16,
   "metadata": {
    "collapsed": false
   },
   "outputs": [
    {
     "data": {
      "text/plain": [
       "b'\\xd0\\x9c\\xd0\\xbe\\xd0\\xb4\\xd0\\xb5\\xd0\\xbb\\xd1\\x8c \"\\xd0\\xa5\\xd0\\xb8\\xd1\\x89\\xd0\\xbd\\xd0\\xb8\\xd0\\xba-\\xd0\\x96\\xd0\\xb5\\xd1\\x80\\xd1\\x82\\xd0\\xb2\\xd0\\xb0\"\\n1. \\xd0\\xa1\\xd0\\xbe\\xd0\\xb7\\xd0\\xb4\\xd0\\xb0\\xd1\\x82\\xd1\\x8c \\xd0\\xbd\\xd0\\xbe\\xd0\\xb2\\xd1\\x83\\xd1\\x8e \\xd0\\xbc\\xd0\\xbe\\xd0\\xb4\\xd0\\xb5\\xd0\\xbb\\xd1\\x8c.\\n2. \\xd0\\x9d\\xd0\\xb0\\xd1\\x81\\xd1\\x82\\xd1\\x80\\xd0\\xbe\\xd0\\xb9\\xd0\\xba\\xd0\\xb8.\\n0. \\xd0\\x92\\xd1\\x8b\\xd1\\x85\\xd0\\xbe\\xd0\\xb4.\\n\\xd0\\x92\\xd1\\x8b\\xd0\\xb1\\xd0\\xb5\\xd1\\x80\\xd0\\xb8\\xd1\\x82\\xd0\\xb5 \\xd0\\xbd\\xd1\\x83\\xd0\\xb6\\xd0\\xbd\\xd1\\x8b\\xd0\\xb9 \\xd0\\xbf\\xd1\\x83\\xd0\\xbd\\xd0\\xba\\xd1\\x82 \\xd0\\xbc\\xd0\\xb5\\xd0\\xbd\\xd1\\x8e: '"
      ]
     },
     "execution_count": 16,
     "metadata": {},
     "output_type": "execute_result"
    }
   ],
   "source": [
    "result.stdout"
   ]
  },
  {
   "cell_type": "code",
   "execution_count": 17,
   "metadata": {
    "collapsed": true
   },
   "outputs": [],
   "source": [
    "result = subprocess.run([\"touch\", \"123.txt\"], stdout=subprocess.PIPE)"
   ]
  },
  {
   "cell_type": "code",
   "execution_count": null,
   "metadata": {
    "collapsed": true
   },
   "outputs": [],
   "source": []
  }
 ],
 "metadata": {
  "kernelspec": {
   "display_name": "Python 3",
   "language": "python",
   "name": "python3"
  },
  "language_info": {
   "codemirror_mode": {
    "name": "ipython",
    "version": 3
   },
   "file_extension": ".py",
   "mimetype": "text/x-python",
   "name": "python",
   "nbconvert_exporter": "python",
   "pygments_lexer": "ipython3",
   "version": "3.5.1"
  }
 },
 "nbformat": 4,
 "nbformat_minor": 0
}
