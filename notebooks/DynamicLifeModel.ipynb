{
 "cells": [
  {
   "cell_type": "markdown",
   "metadata": {},
   "source": [
    "# Модель жизненных сценариев"
   ]
  },
  {
   "cell_type": "markdown",
   "metadata": {},
   "source": [
    "# Основные положения\n",
    "\n",
    "* Животное живет 1000 шагов, условно 70 лет.\n",
    "* Животное достигает наилучших показателей чуть раньше середины своей жизни (30 лет). Назовем такое животное условно \"взрослое\".\n",
    "* Процесс, когда животное стоит на месте и не ест, назовем \"пассивным\" голоданием.\n",
    "* Процесс, когда животное передивгается и не ест, назовем \"активным\" голоданием.\n",
    "* Взрослое животное может прожить около 50 шагов пассивного голодания.\n",
    "* Взрослое животное может прожить около 30 - 40 шагов активного голодания в зависимости от скорости движения.\n",
    "* Максимальная скорость взрослого животного 10 клеток за 1 шаг. При движении с максимальной скоростью запас сил тратиться так же максимально быстро.\n",
    "* Комфортная скорость взрослого животного 4 клетки за 1 шаг. При движении с комфортной скоростью Запас сил восстанавливается.\n",
    "* При максимальным запасом сил взрослое животное может пройти 5 шагов с максимальной скоростью.\n",
    "* Согласно составленной модели запас сил начинает ощутимо убывать, когда соотношение $\\frac{E}{E_{max}} < 0.6$. Назовем это значение уровнем сильного голода. Взрослое животное должно востанавливать энергию полностью с уровня сильного голода, съев взрослую жертву."
   ]
  },
  {
   "cell_type": "markdown",
   "metadata": {},
   "source": [
    "# Возраст"
   ]
  },
  {
   "cell_type": "markdown",
   "metadata": {},
   "source": [
    "Срок жизни животного 1000 шагов (что соответствует 70 лет человека)"
   ]
  },
  {
   "cell_type": "code",
   "execution_count": 298,
   "metadata": {
    "collapsed": false
   },
   "outputs": [
    {
     "name": "stdout",
     "output_type": "stream",
     "text": [
      "Один шаг модели равняется  0.07  годам\n"
     ]
    }
   ],
   "source": [
    "import math\n",
    "\n",
    "age_coef_const = 70 / 1000\n",
    "print(\"Один шаг модели равняется \", age_coef_const, \" годам\")\n",
    "\n",
    "def getAge(step):\n",
    "    return 70 / 1000 * step"
   ]
  },
  {
   "cell_type": "markdown",
   "metadata": {},
   "source": [
    "Создадим взрослое животное с возрастом, соответсвующим человеческим 30 годам"
   ]
  },
  {
   "cell_type": "code",
   "execution_count": 299,
   "metadata": {
    "collapsed": false
   },
   "outputs": [
    {
     "name": "stdout",
     "output_type": "stream",
     "text": [
      "Age: 30\n",
      "Step: 428\n"
     ]
    }
   ],
   "source": [
    "age = 30\n",
    "current_step = math.trunc(age / age_coef_const)\n",
    "print(\"Age:\", round(getAge(current_step)))\n",
    "print(\"Step:\", current_step)"
   ]
  },
  {
   "cell_type": "markdown",
   "metadata": {},
   "source": [
    "Для исследования возьмем животное возрастом 30 лет. В этом возрасте животное обладает самыми лучшими характеристиками."
   ]
  },
  {
   "cell_type": "markdown",
   "metadata": {},
   "source": [
    "# Скорость\n"
   ]
  },
  {
   "cell_type": "markdown",
   "metadata": {},
   "source": [
    "Согласно положению и выбранной завсисмости скорости от возраста найдем $V_0$"
   ]
  },
  {
   "cell_type": "code",
   "execution_count": 300,
   "metadata": {
    "collapsed": false
   },
   "outputs": [
    {
     "name": "stdout",
     "output_type": "stream",
     "text": [
      "7.911209503716706\n"
     ]
    }
   ],
   "source": [
    "def alpha_f(x):\n",
    "    return ((x**2) + (2*x))/((x**2) + 2.3) + 0.2\n",
    "\n",
    "V_0 = 10 / alpha_f(getAge(current_step))\n",
    "print (V_0)"
   ]
  },
  {
   "cell_type": "markdown",
   "metadata": {},
   "source": [
    "Округлим и примем $V_0 = 8$"
   ]
  },
  {
   "cell_type": "markdown",
   "metadata": {},
   "source": [
    "Согласно положениям примем комфортную сокрость равной $0.4 \\cdot V_{max}$"
   ]
  },
  {
   "cell_type": "markdown",
   "metadata": {},
   "source": [
    "### Грфик зависмости максимальной и комфортной скорости от возраста"
   ]
  },
  {
   "cell_type": "code",
   "execution_count": 301,
   "metadata": {
    "collapsed": false
   },
   "outputs": [
    {
     "data": {
      "image/png": "[encoded data removed]",
      "text/plain": [
       "<matplotlib.figure.Figure at 0x1d1d725cd30>"
      ]
     },
     "metadata": {},
     "output_type": "display_data"
    }
   ],
   "source": [
    "%matplotlib inline\n",
    "t = np.arange(0, 1000)\n",
    "alpha = alpha_f(np.linspace(0, 7, 1000))  * 8\n",
    "k_alpha = alpha * 0.4 \n",
    "plt.figure(figsize=(10, 7))\n",
    "plt.plot(t, alpha, 'b')\n",
    "plt.plot(t, k_alpha, 'r')\n",
    "plt.show()"
   ]
  },
  {
   "cell_type": "markdown",
   "metadata": {},
   "source": [
    "# Энергия"
   ]
  },
  {
   "cell_type": "markdown",
   "metadata": {},
   "source": [
    "## Максимальная энергия"
   ]
  },
  {
   "cell_type": "markdown",
   "metadata": {},
   "source": [
    "Определим максимальную возможную энергию животного для текущего шага жизни животного\n",
    "\n",
    "Зададим константу $E_0$ равной 100"
   ]
  },
  {
   "cell_type": "code",
   "execution_count": 302,
   "metadata": {
    "collapsed": false
   },
   "outputs": [
    {
     "name": "stdout",
     "output_type": "stream",
     "text": [
      "Максимальная энергия взрослого животного: 126.08075653\n"
     ]
    }
   ],
   "source": [
    "import numpy as np\n",
    "\n",
    "def lambda_f(x):\n",
    "    x= x/7\n",
    "    return ((x**2) + (2*x))/((x**2) + 3)\n",
    "\n",
    "E_0 = 100\n",
    "\n",
    "E_max = lambda_f(getAge(np.arange(1000))) * E_0\n",
    "print(\"Максимальная энергия взрослого животного:\", E_max[current_step])"
   ]
  },
  {
   "cell_type": "markdown",
   "metadata": {},
   "source": [
    "### График максимальной энергии по шагам жизни агента"
   ]
  },
  {
   "cell_type": "code",
   "execution_count": 303,
   "metadata": {
    "collapsed": false
   },
   "outputs": [
    {
     "data": {
      "image/png": "[encoded data removed]",
      "text/plain": [
       "<matplotlib.figure.Figure at 0x1d1d9386438>"
      ]
     },
     "metadata": {},
     "output_type": "display_data"
    }
   ],
   "source": [
    "import numpy as np\n",
    "from matplotlib import pyplot as plt\n",
    "%matplotlib inline\n",
    "\n",
    "t = np.arange(0, 1000)\n",
    "plt.figure(figsize=(10, 7))\n",
    "plt.plot(t, E_max, 'b')\n",
    "plt.show()"
   ]
  },
  {
   "cell_type": "markdown",
   "metadata": {},
   "source": [
    "## Пассивное голодание"
   ]
  },
  {
   "cell_type": "markdown",
   "metadata": {},
   "source": [
    "Наделим 30 летнее животное максимальной энергией для текущего шага жизни"
   ]
  },
  {
   "cell_type": "code",
   "execution_count": 304,
   "metadata": {
    "collapsed": false
   },
   "outputs": [],
   "source": [
    "import numpy as np\n",
    "\n",
    "E = []\n",
    "E.append(E_max[current_step])"
   ]
  },
  {
   "cell_type": "markdown",
   "metadata": {},
   "source": [
    "Запускаем случай голодания, когда животное не тратит время на передвижение, и не получает пищи"
   ]
  },
  {
   "cell_type": "code",
   "execution_count": 305,
   "metadata": {
    "collapsed": false
   },
   "outputs": [
    {
     "name": "stdout",
     "output_type": "stream",
     "text": [
      "53\n",
      "3.64985813035 1.26126869654 -1.12689584242\n"
     ]
    }
   ],
   "source": [
    "def epsilon_f(x):\n",
    "    x = x/ 6\n",
    "    return (x**3)/((4.5*x**3) - (14*x**2) + 18*x - 0.1) + 2\n",
    "\n",
    "for i in range(1, 60):\n",
    "    E.append(E[i-1] - epsilon_f(getAge(current_step + i)))\n",
    "    if E[i] <= 0:\n",
    "        print(i)\n",
    "        break\n",
    "\n",
    "print(E[51], E[52], E[53])"
   ]
  },
  {
   "cell_type": "markdown",
   "metadata": {},
   "source": [
    "На 53 шаге пассивного голодания энергия животного переходит через ноль."
   ]
  },
  {
   "cell_type": "markdown",
   "metadata": {},
   "source": [
    "### График убывания энергии при пассивном голодании по шагам жизни агента"
   ]
  },
  {
   "cell_type": "markdown",
   "metadata": {},
   "source": [
    "Животное не двигается, не ест, теряет энергию каждый шаг модели"
   ]
  },
  {
   "cell_type": "code",
   "execution_count": 306,
   "metadata": {
    "collapsed": false
   },
   "outputs": [
    {
     "data": {
      "image/png": "[encoded data removed]",
      "text/plain": [
       "<matplotlib.figure.Figure at 0x1d1d920e5f8>"
      ]
     },
     "metadata": {},
     "output_type": "display_data"
    }
   ],
   "source": [
    "import numpy as np\n",
    "from matplotlib import pyplot as plt\n",
    "%matplotlib inline\n",
    "\n",
    "t = np.arange(0, len(E))\n",
    "plt.figure(figsize=(10, 7))\n",
    "plt.plot(t, E, 'b')\n",
    "plt.plot(np.arange(0, 60), np.zeros(60), \"r--\")\n",
    "plt.show()"
   ]
  },
  {
   "cell_type": "markdown",
   "metadata": {},
   "source": [
    "### График длительности возможного голодания по шагам жизни агента"
   ]
  },
  {
   "cell_type": "markdown",
   "metadata": {},
   "source": [
    "Найдем количество шагов голодания для каждого из возрастов агентов в шагах модели."
   ]
  },
  {
   "cell_type": "code",
   "execution_count": 307,
   "metadata": {
    "collapsed": false
   },
   "outputs": [],
   "source": [
    "E = []\n",
    "\n",
    "for step in range(0, 1000):\n",
    "    lst = []\n",
    "    lst.append(E_max[step])\n",
    "    for i in range(1, 1000):\n",
    "        lst.append(lst[i-1] - epsilon_f(getAge(i + step)))\n",
    "        if lst[i] <= 0:\n",
    "            break\n",
    "    E.append(lst)"
   ]
  },
  {
   "cell_type": "code",
   "execution_count": 308,
   "metadata": {
    "collapsed": false
   },
   "outputs": [],
   "source": [
    "lenght = []\n",
    "for lst in E:\n",
    "    lenght.append(len(lst)-1)"
   ]
  },
  {
   "cell_type": "code",
   "execution_count": 309,
   "metadata": {
    "collapsed": false
   },
   "outputs": [
    {
     "data": {
      "image/png": "[encoded data removed]",
      "text/plain": [
       "<matplotlib.figure.Figure at 0x1d1d7521a90>"
      ]
     },
     "metadata": {},
     "output_type": "display_data"
    }
   ],
   "source": [
    "import numpy as np\n",
    "from matplotlib import pyplot as plt\n",
    "%matplotlib inline\n",
    "\n",
    "t = np.arange(0, len(E))\n",
    "plt.figure(figsize=(10, 7))\n",
    "plt.plot(t, lenght, 'b')\n",
    "plt.show()"
   ]
  },
  {
   "cell_type": "markdown",
   "metadata": {},
   "source": [
    "## Активное голодание"
   ]
  },
  {
   "cell_type": "markdown",
   "metadata": {},
   "source": [
    "Аналогично предыдущему эксперименту наделим 30 летнее животное максимальной энергией для текущего шага жизни и запустим процесс с комфорту скоростью бега"
   ]
  },
  {
   "cell_type": "code",
   "execution_count": 310,
   "metadata": {
    "collapsed": false
   },
   "outputs": [
    {
     "name": "stdout",
     "output_type": "stream",
     "text": [
      "40\n"
     ]
    }
   ],
   "source": [
    "E = []\n",
    "E.append(E_max[current_step])\n",
    "\n",
    "def zeta_f(x):\n",
    "    return x * 0.2\n",
    "\n",
    "for i in range(1, 60):\n",
    "    E.append(E[i-1] - epsilon_f(getAge(current_step + i)) - zeta_f(4))\n",
    "    if E[i] <= 0:\n",
    "        print(i)\n",
    "        break\n"
   ]
  },
  {
   "cell_type": "markdown",
   "metadata": {},
   "source": [
    "При движении с комфортной сокростью животное умрет от голода через 40 ходов."
   ]
  },
  {
   "cell_type": "code",
   "execution_count": 311,
   "metadata": {
    "collapsed": false
   },
   "outputs": [
    {
     "name": "stdout",
     "output_type": "stream",
     "text": [
      "29\n"
     ]
    }
   ],
   "source": [
    "E2 = []\n",
    "E2.append(E_max[current_step])\n",
    "\n",
    "def zeta_f(x):\n",
    "    return x * 0.2\n",
    "\n",
    "for i in range(1, 60):\n",
    "    E2.append(E2[i-1] - epsilon_f(getAge(current_step + i)) - zeta_f(10))\n",
    "    if E2[i] <= 0:\n",
    "        print(i)\n",
    "        break\n"
   ]
  },
  {
   "cell_type": "markdown",
   "metadata": {},
   "source": [
    "При движении с максимальной сокростью животное умрет от голода через 29 ходов."
   ]
  },
  {
   "cell_type": "markdown",
   "metadata": {},
   "source": [
    "### График убывания энергии при активном голодании по шагам жизни агента"
   ]
  },
  {
   "cell_type": "code",
   "execution_count": 312,
   "metadata": {
    "collapsed": false
   },
   "outputs": [
    {
     "data": {
      "image/png": "[encoded data removed]",
      "text/plain": [
       "<matplotlib.figure.Figure at 0x1d1d8abc2b0>"
      ]
     },
     "metadata": {},
     "output_type": "display_data"
    }
   ],
   "source": [
    "import numpy as np\n",
    "from matplotlib import pyplot as plt\n",
    "%matplotlib inline\n",
    "\n",
    "t = np.arange(0, len(E))\n",
    "t2 = np.arange(0, len(E2))\n",
    "plt.figure(figsize=(10, 7))\n",
    "plt.plot(t, E, 'b')\n",
    "plt.plot(t2, E2, 'r')\n",
    "plt.plot(np.arange(0, 60), np.zeros(60), \"g--\")\n",
    "plt.show()"
   ]
  },
  {
   "cell_type": "markdown",
   "metadata": {},
   "source": [
    "### График длительности возможного голодания по шагам жизни агента"
   ]
  },
  {
   "cell_type": "code",
   "execution_count": 313,
   "metadata": {
    "collapsed": false
   },
   "outputs": [],
   "source": [
    "E = []\n",
    "\n",
    "for step in range(0, 1000):\n",
    "    lst = []\n",
    "    lst.append(E_max[step])\n",
    "    for i in range(1, 1000):\n",
    "        lst.append(lst[i-1] - epsilon_f(getAge(i + step)) - zeta_f(10))\n",
    "        if lst[i] <= 0:\n",
    "            break\n",
    "    E.append(lst)"
   ]
  },
  {
   "cell_type": "code",
   "execution_count": 314,
   "metadata": {
    "collapsed": false
   },
   "outputs": [],
   "source": [
    "E2 = []\n",
    "\n",
    "for step in range(0, 1000):\n",
    "    lst = []\n",
    "    lst.append(E_max[step])\n",
    "    for i in range(1, 1000):\n",
    "        lst.append(lst[i-1] - epsilon_f(getAge(i + step)) - zeta_f(4))\n",
    "        if lst[i] <= 0:\n",
    "            break\n",
    "    E2.append(lst)"
   ]
  },
  {
   "cell_type": "code",
   "execution_count": 315,
   "metadata": {
    "collapsed": false
   },
   "outputs": [],
   "source": [
    "lenght = []\n",
    "for lst in E:\n",
    "    lenght.append(len(lst)-1)\n",
    "    \n",
    "lenght2 = []\n",
    "for lst in E2:\n",
    "    lenght2.append(len(lst)-1)"
   ]
  },
  {
   "cell_type": "code",
   "execution_count": 316,
   "metadata": {
    "collapsed": false
   },
   "outputs": [
    {
     "data": {
      "image/png": "[encoded data removed]",
      "text/plain": [
       "<matplotlib.figure.Figure at 0x1d1d8bf9e10>"
      ]
     },
     "metadata": {},
     "output_type": "display_data"
    }
   ],
   "source": [
    "import numpy as np\n",
    "from matplotlib import pyplot as plt\n",
    "%matplotlib inline\n",
    "\n",
    "t = np.arange(0, len(E))\n",
    "t2 = np.arange(0, len(E2))\n",
    "plt.figure(figsize=(10, 7))\n",
    "plt.plot(t, lenght, 'b')\n",
    "plt.plot(t2, lenght2, 'r')\n",
    "plt.ylim([0,45])\n",
    "plt.show()"
   ]
  },
  {
   "cell_type": "markdown",
   "metadata": {},
   "source": [
    "# Питание"
   ]
  },
  {
   "cell_type": "markdown",
   "metadata": {},
   "source": [
    "### График завсисмости коэфициента питательности от возраста"
   ]
  },
  {
   "cell_type": "code",
   "execution_count": 327,
   "metadata": {
    "collapsed": false
   },
   "outputs": [
    {
     "data": {
      "image/png": "[encoded data removed]",
      "text/plain": [
       "<matplotlib.figure.Figure at 0x1d1d91f7a58>"
      ]
     },
     "metadata": {},
     "output_type": "display_data"
    }
   ],
   "source": [
    "def gamma_f(x):\n",
    "    x /= 7\n",
    "    return ((5*x**2) + (5*x))/(7*((x**2)+3))\n",
    "\n",
    "t = np.arange(0, 1000)\n",
    "plt.figure(figsize=(10, 7))\n",
    "plt.plot(t, gamma_f(getAge(t)), 'b')\n",
    "plt.show()"
   ]
  },
  {
   "cell_type": "markdown",
   "metadata": {},
   "source": [
    "Согласно основным положениям опустим уровень энергии взрослого животного до 0.6 от максимального"
   ]
  },
  {
   "cell_type": "code",
   "execution_count": 325,
   "metadata": {
    "collapsed": false
   },
   "outputs": [
    {
     "name": "stdout",
     "output_type": "stream",
     "text": [
      "75.6484539177\n"
     ]
    }
   ],
   "source": [
    "E = 0.6 * E_max[current_step]\n",
    "print(E)"
   ]
  },
  {
   "cell_type": "markdown",
   "metadata": {},
   "source": [
    "Подберем коэффициент $E_f$ так, чтобы если взрослое животное съест взрослую жертву то восстановит свою энергию"
   ]
  },
  {
   "cell_type": "markdown",
   "metadata": {},
   "source": [
    "Составим равентсво  $0.4 \\cdot E_{max} = \\gamma(A) \\cdot E_f$"
   ]
  },
  {
   "cell_type": "code",
   "execution_count": 330,
   "metadata": {
    "collapsed": false
   },
   "outputs": [
    {
     "name": "stdout",
     "output_type": "stream",
     "text": [
      "66.6060606061\n"
     ]
    }
   ],
   "source": [
    "E_f = 0.4 * E_max[current_step] / gamma_f(getAge(current_step))\n",
    "print(E_f)"
   ]
  },
  {
   "cell_type": "markdown",
   "metadata": {},
   "source": [
    "Округлим и возьмем $E_f$ равной 65"
   ]
  },
  {
   "cell_type": "markdown",
   "metadata": {
    "collapsed": true
   },
   "source": [
    "# Запас сил"
   ]
  },
  {
   "cell_type": "markdown",
   "metadata": {},
   "source": [
    "## Определение размера запаса сил"
   ]
  },
  {
   "cell_type": "markdown",
   "metadata": {},
   "source": [
    "Пусть 1 единица запаса сил соответсвует 1 пройденной клетки на максимальной скорости. Тогда согласно основным положениям $S_0 = 50$"
   ]
  },
  {
   "cell_type": "markdown",
   "metadata": {},
   "source": [
    "### График убывания запаса сил при разных типах голодания оп шагам"
   ]
  },
  {
   "cell_type": "markdown",
   "metadata": {},
   "source": [
    "Возьмем взрослое животное и посмотрим как убывает запас сил при раззных типах голодания."
   ]
  },
  {
   "cell_type": "code",
   "execution_count": 317,
   "metadata": {
    "collapsed": false
   },
   "outputs": [
    {
     "name": "stderr",
     "output_type": "stream",
     "text": [
      "C:\\Miniconda3\\envs\\ppenv\\lib\\site-packages\\ipykernel\\__main__.py:2: RuntimeWarning: divide by zero encountered in double_scalars\n",
      "  from ipykernel import kernelapp as app\n"
     ]
    },
    {
     "data": {
      "image/png": "[encoded data removed]",
      "text/plain": [
       "<matplotlib.figure.Figure at 0x1d1d75d2f60>"
      ]
     },
     "metadata": {},
     "output_type": "display_data"
    }
   ],
   "source": [
    "def theta_f(e, e_m):\n",
    "    return 1 - np.exp((-3*e)/(e_m - e))\n",
    "\n",
    "E = []\n",
    "E2 = []\n",
    "E3 = []\n",
    "\n",
    "E.append(E_max[current_step])\n",
    "E2.append(E_max[current_step])\n",
    "E3.append(E_max[current_step])\n",
    "\n",
    "for i in range(1, 60):\n",
    "    E.append(E[i-1] - epsilon_f(getAge(current_step + i)))\n",
    "    if E[i] <= 0:\n",
    "        break\n",
    "        \n",
    "for i in range(1, 60):\n",
    "    E2.append(E2[i-1] - epsilon_f(getAge(current_step + i)) - zeta_f(4))\n",
    "    if E2[i] <= 0:\n",
    "        break\n",
    "        \n",
    "for i in range(1, 60):\n",
    "    E3.append(E3[i-1] - epsilon_f(getAge(current_step + i)) - zeta_f(10))\n",
    "    if E3[i] <= 0:\n",
    "        break\n",
    "\n",
    "             \n",
    "t = np.arange(0, len(E))\n",
    "t2 = np.arange(0, len(E2))\n",
    "t3 = np.arange(0, len(E3))\n",
    "\n",
    "T = []\n",
    "for e in E:\n",
    "    T.append(theta_f(e, E_max[current_step]) * 50)\n",
    "\n",
    "T2 = []\n",
    "for e in E2:\n",
    "    T2.append(theta_f(e, E_max[current_step]) * 50)\n",
    "    \n",
    "T3 = []\n",
    "for e in E3:\n",
    "    T3.append(theta_f(e, E_max[current_step]) * 50)\n",
    "\n",
    "\n",
    "\n",
    "plt.figure(figsize=(10, 7))\n",
    "plt.plot(t, T, 'b')\n",
    "plt.plot(t2, T2, 'r')\n",
    "plt.plot(t3, T3, 'g')\n",
    "plt.plot(np.arange(0, 60), np.zeros(60), 'y--')\n",
    "plt.plot()\n",
    "plt.show()"
   ]
  },
  {
   "cell_type": "markdown",
   "metadata": {},
   "source": [
    "Найдем те ходы когда соотношение $\\frac{E}{E_{max}}$ пересекает значение 0.6 и укажим с помощью вертикальных прямых на графике."
   ]
  },
  {
   "cell_type": "code",
   "execution_count": 318,
   "metadata": {
    "collapsed": false
   },
   "outputs": [
    {
     "name": "stdout",
     "output_type": "stream",
     "text": [
      "21 0.598943553464\n",
      "16 0.59274846642\n",
      "12 0.580249943744\n"
     ]
    },
    {
     "data": {
      "image/png": "[encoded data removed]",
      "text/plain": [
       "<matplotlib.figure.Figure at 0x1d1d91e0c18>"
      ]
     },
     "metadata": {},
     "output_type": "display_data"
    }
   ],
   "source": [
    "k = 0\n",
    "k2 = 0 \n",
    "k3 = 0 \n",
    "\n",
    "for i in range(0, len(E)):\n",
    "    if E[i] / E[0] <= 0.6:\n",
    "        k = i\n",
    "        print(i, E[i] / E[0])\n",
    "        break\n",
    "\n",
    "for i in range(0, len(E2)):\n",
    "    if E2[i] / E2[0] <= 0.6:\n",
    "        k2 = i\n",
    "        print(i, E2[i] / E2[0])\n",
    "        break\n",
    "\n",
    "for i in range(0, len(E3)):\n",
    "    if E3[i] / E3[0] <= 0.6:\n",
    "        k3 = i\n",
    "        print(i, E3[i] / E3[0])\n",
    "        break\n",
    "        \n",
    "plt.figure(figsize=(10, 7))\n",
    "plt.plot(t, T, 'b')\n",
    "plt.plot([k,k],[0,50],'b--')\n",
    "plt.plot(t2, T2, 'r')\n",
    "plt.plot([k2,k2],[0,50],'r--')\n",
    "plt.plot(t3, T3, 'g')\n",
    "plt.plot([k3,k3],[0,50],'g--')\n",
    "plt.plot(np.arange(0, 60), np.zeros(60), 'y--')\n",
    "plt.plot()\n",
    "plt.show()"
   ]
  },
  {
   "cell_type": "markdown",
   "metadata": {},
   "source": [
    "Итак, согласно модели запас начинат убывать при определенном соотношении энергий."
   ]
  },
  {
   "cell_type": "markdown",
   "metadata": {},
   "source": [
    "### График зависимости колиства шагов голодания, после которых начинается снижение запаса сил от возраста."
   ]
  },
  {
   "cell_type": "markdown",
   "metadata": {},
   "source": [
    "Найдем на каком шагу для каждого возраста соотношение энергии достигает 0.6"
   ]
  },
  {
   "cell_type": "code",
   "execution_count": 319,
   "metadata": {
    "collapsed": false
   },
   "outputs": [
    {
     "name": "stderr",
     "output_type": "stream",
     "text": [
      "C:\\Miniconda3\\envs\\ppenv\\lib\\site-packages\\ipykernel\\__main__.py:11: RuntimeWarning: invalid value encountered in double_scalars\n",
      "C:\\Miniconda3\\envs\\ppenv\\lib\\site-packages\\ipykernel\\__main__.py:11: RuntimeWarning: divide by zero encountered in double_scalars\n",
      "C:\\Miniconda3\\envs\\ppenv\\lib\\site-packages\\ipykernel\\__main__.py:25: RuntimeWarning: invalid value encountered in double_scalars\n",
      "C:\\Miniconda3\\envs\\ppenv\\lib\\site-packages\\ipykernel\\__main__.py:25: RuntimeWarning: divide by zero encountered in double_scalars\n",
      "C:\\Miniconda3\\envs\\ppenv\\lib\\site-packages\\ipykernel\\__main__.py:39: RuntimeWarning: invalid value encountered in double_scalars\n",
      "C:\\Miniconda3\\envs\\ppenv\\lib\\site-packages\\ipykernel\\__main__.py:39: RuntimeWarning: divide by zero encountered in double_scalars\n"
     ]
    },
    {
     "data": {
      "text/plain": [
       "<function matplotlib.pyplot.show>"
      ]
     },
     "execution_count": 319,
     "metadata": {},
     "output_type": "execute_result"
    },
    {
     "data": {
      "image/png": "[encoded data removed]",
      "text/plain": [
       "<matplotlib.figure.Figure at 0x1d1d91c3c50>"
      ]
     },
     "metadata": {},
     "output_type": "display_data"
    }
   ],
   "source": [
    "k = []\n",
    "\n",
    "for step in range(0, 1000):\n",
    "    lst = []\n",
    "    lst.append(E_max[step])\n",
    "    for i in range(1, 1000):\n",
    "        lst.append(lst[i-1] - epsilon_f(getAge(i + step)))\n",
    "        if lst[i] <= 0:\n",
    "            break\n",
    "    for i in range(0, len(lst)):\n",
    "        if lst[i]/E_max[step] <= 0.6:\n",
    "            k.append(i)\n",
    "            break\n",
    "            \n",
    "k2 = []\n",
    "\n",
    "for step in range(0, 1000):\n",
    "    lst = []\n",
    "    lst.append(E_max[step])\n",
    "    for i in range(1, 1000):\n",
    "        lst.append(lst[i-1] - epsilon_f(getAge(i + step)) - zeta_f(4))\n",
    "        if lst[i] <= 0:\n",
    "            break\n",
    "    for i in range(0, len(lst)):\n",
    "        if lst[i]/E_max[step] <= 0.6:\n",
    "            k2.append(i)\n",
    "            break\n",
    "\n",
    "k3 = []\n",
    "\n",
    "for step in range(0, 1000):\n",
    "    lst = []\n",
    "    lst.append(E_max[step])\n",
    "    for i in range(1, 1000):\n",
    "        lst.append(lst[i-1] - epsilon_f(getAge(i + step)) - zeta_f(10))\n",
    "        if lst[i] <= 0:\n",
    "            break\n",
    "    for i in range(0, len(lst)):\n",
    "        if lst[i]/E_max[step] <= 0.6:\n",
    "            k3.append(i)\n",
    "            break\n",
    "\n",
    "plt.figure(figsize=(10, 7))\n",
    "plt.plot(np.arange(0, len(k)), k, 'b')\n",
    "plt.plot(np.arange(0, len(k2)), k2, 'r')\n",
    "plt.plot(np.arange(0, len(k3)), k3, 'g')\n",
    "plt.show"
   ]
  },
  {
   "cell_type": "markdown",
   "metadata": {},
   "source": [
    "На данном графике мы определили, через какое количество шагов агент начинает чувствовать снижение выносливости."
   ]
  },
  {
   "cell_type": "markdown",
   "metadata": {},
   "source": [
    "## Восстановление и растрат запаса сил при движении"
   ]
  },
  {
   "cell_type": "markdown",
   "metadata": {},
   "source": [
    "Изменение запаса сил линейно зависит от пройденного расстояния.\n",
    "Подберем $S_m$ так, чтобы при максимальной потраченная сила равнялась 10. Возьмем $S_m = 10$. \n",
    "Но коэффицент $\\eta$ должен зависить от максимальной скорости. "
   ]
  },
  {
   "cell_type": "code",
   "execution_count": 354,
   "metadata": {
    "collapsed": false
   },
   "outputs": [
    {
     "data": {
      "image/png": "[encoded data removed]",
      "text/plain": [
       "<matplotlib.figure.Figure at 0x1d1d8c1b7f0>"
      ]
     },
     "metadata": {},
     "output_type": "display_data"
    }
   ],
   "source": [
    "def eta_f(x, V_max):\n",
    "    return (- 2 * (x/V_max)) + 1\n",
    "t = np.arange(0, 13)\n",
    "eta = eta_f(np.linspace(0, 12, 13), 12) * 10\n",
    "plt.figure(figsize=(12, 7))\n",
    "plt.plot(t, eta, 'b')\n",
    "plt.show()"
   ]
  },
  {
   "cell_type": "markdown",
   "metadata": {},
   "source": [
    "Таким образом, при максимальной скорости за шаг животное любого возраста тратит 10 единиц выносливости. А при комфортной сокрости запас сил восстанавливается. Запас одинаков для животных любого возраста."
   ]
  }
 ],
 "metadata": {
  "kernelspec": {
   "display_name": "Python 3",
   "language": "python",
   "name": "python3"
  },
  "language_info": {
   "codemirror_mode": {
    "name": "ipython",
    "version": 3
   },
   "file_extension": ".py",
   "mimetype": "text/x-python",
   "name": "python",
   "nbconvert_exporter": "python",
   "pygments_lexer": "ipython3",
   "version": "3.5.1"
  }
 },
 "nbformat": 4,
 "nbformat_minor": 0
}
