{
 "cells": [
  {
   "cell_type": "markdown",
   "metadata": {},
   "source": [
    "# Модель жизненных сценариев"
   ]
  },
  {
   "cell_type": "markdown",
   "metadata": {},
   "source": [
    "Срок жизни животного 1000 шагов (что соответствует 70 лет человека)"
   ]
  },
  {
   "cell_type": "markdown",
   "metadata": {},
   "source": [
    "Создадим животное с возрастом, соответсвующим человеческим 30 годам"
   ]
  },
  {
   "cell_type": "code",
   "execution_count": 163,
   "metadata": {
    "collapsed": false
   },
   "outputs": [
    {
     "name": "stdout",
     "output_type": "stream",
     "text": [
      "Один шаг модели равняется  0.07  годам\n",
      "30\n"
     ]
    }
   ],
   "source": [
    "import math\n",
    "\n",
    "age = 30\n",
    "\n",
    "age_coef_const = 70 / 1000\n",
    "print(\"Один шаг модели равняется \", age_coef_const, \" годам\")\n",
    "\n",
    "current_step = math.trunc(age / age_coef_const)\n",
    "\n",
    "def getAge(step):\n",
    "    return 70 / 1000 * step\n",
    "    \n",
    "print(round(getAge(current_step)))"
   ]
  },
  {
   "cell_type": "markdown",
   "metadata": {},
   "source": [
    "Определим максимальную возможную энергию животного для текущего шага жизни животного\n",
    "\n",
    "Зададим константу $E_0$ равной 100"
   ]
  },
  {
   "cell_type": "code",
   "execution_count": 164,
   "metadata": {
    "collapsed": false
   },
   "outputs": [
    {
     "data": {
      "text/plain": [
       "126.08075652957069"
      ]
     },
     "execution_count": 164,
     "metadata": {},
     "output_type": "execute_result"
    }
   ],
   "source": [
    "import numpy as np\n",
    "\n",
    "E_max = np.zeros(1000)\n",
    "\n",
    "def lambda_f(x):\n",
    "    x= x/7\n",
    "    return ((x**2) + (2*x))/((x**2) + 3)\n",
    "\n",
    "E_0 = 100\n",
    "\n",
    "E_max[:] = lambda_f(getAge(np.arange(1000))) * E_0\n",
    "E_max[current_step]"
   ]
  },
  {
   "cell_type": "markdown",
   "metadata": {},
   "source": [
    "Просто выведем график максимальной энергии по шагам жизни агента"
   ]
  },
  {
   "cell_type": "code",
   "execution_count": 165,
   "metadata": {
    "collapsed": false
   },
   "outputs": [
    {
     "data": {
      "image/png": "[encoded data removed]",
      "text/plain": [
       "<matplotlib.figure.Figure at 0x1fb4a78e3c8>"
      ]
     },
     "metadata": {},
     "output_type": "display_data"
    }
   ],
   "source": [
    "import numpy as np\n",
    "from matplotlib import pyplot as plt\n",
    "%matplotlib inline\n",
    "\n",
    "t = np.arange(0, 1000)\n",
    "plt.figure(figsize=(10, 7))\n",
    "plt.plot(t, E_max, 'b')\n",
    "plt.show()"
   ]
  },
  {
   "cell_type": "markdown",
   "metadata": {},
   "source": [
    "Наделим животное максимальной энергией для текущего шага жизни"
   ]
  },
  {
   "cell_type": "code",
   "execution_count": 166,
   "metadata": {
    "collapsed": false
   },
   "outputs": [],
   "source": [
    "import numpy as np\n",
    "\n",
    "E = np.zeros(1000)\n",
    "E[current_step -1] = E_max[current_step - 1]"
   ]
  },
  {
   "cell_type": "markdown",
   "metadata": {},
   "source": [
    "Запускаем случай голодания, когда животное не тратит время на передвижение, и не получает пищи"
   ]
  },
  {
   "cell_type": "code",
   "execution_count": 167,
   "metadata": {
    "collapsed": false
   },
   "outputs": [
    {
     "name": "stdout",
     "output_type": "stream",
     "text": [
      "52\n",
      "3.63603157181 1.24701528534 -1.14157414846\n"
     ]
    }
   ],
   "source": [
    "def epsilon_f(x):\n",
    "    x = x/ 6\n",
    "    return (x**3)/((4.5*x**3) - (14*x**2) + 18*x - 0.1) + 2\n",
    "\n",
    "for i in range(current_step, current_step + 60):\n",
    "    E[i] = E[i-1] - epsilon_f(getAge(i))\n",
    "    if E[i] <= 0:\n",
    "        print(i - current_step)\n",
    "        break\n",
    "\n",
    "print(E[current_step + 50], E[current_step + 51], E[current_step + 52])"
   ]
  },
  {
   "cell_type": "markdown",
   "metadata": {},
   "source": [
    "На шаге 52 голодания енергия животного переходит через ноль"
   ]
  },
  {
   "cell_type": "markdown",
   "metadata": {},
   "source": [
    "# График убывания энергии при голодании по шагам жизни агента"
   ]
  },
  {
   "cell_type": "markdown",
   "metadata": {},
   "source": [
    "Животное не двигается, не ест, теряет энергию каждый шаг модели"
   ]
  },
  {
   "cell_type": "code",
   "execution_count": 168,
   "metadata": {
    "collapsed": false
   },
   "outputs": [
    {
     "data": {
      "image/png": "[encoded data removed]",
      "text/plain": [
       "<matplotlib.figure.Figure at 0x1fb4968b128>"
      ]
     },
     "metadata": {},
     "output_type": "display_data"
    }
   ],
   "source": [
    "import numpy as np\n",
    "from matplotlib import pyplot as plt\n",
    "%matplotlib inline\n",
    "\n",
    "t = np.arange(0, 80)\n",
    "plt.figure(figsize=(10, 7))\n",
    "plt.plot(t, E[428:508], 'b')\n",
    "plt.show()"
   ]
  },
  {
   "cell_type": "markdown",
   "metadata": {},
   "source": [
    "Количество шагов голодания для каждого из возрастов агентов в шагах модели"
   ]
  },
  {
   "cell_type": "code",
   "execution_count": 169,
   "metadata": {
    "collapsed": false
   },
   "outputs": [],
   "source": [
    "x = np.zeros(1000)\n",
    "Ene = []\n",
    "for step in range(1, 1000):\n",
    "    Energy = np.zeros(1000)\n",
    "    Energy[step - 1] = E_max[step - 1]\n",
    "    for i in range(step, 1000):\n",
    "        Energy[i] = Energy[i-1] - epsilon_f(getAge(i))\n",
    "        if Energy[i] <= 0:\n",
    "            x[step] = i - step\n",
    "            break\n",
    "    Ene.append(Energy)"
   ]
  },
  {
   "cell_type": "markdown",
   "metadata": {},
   "source": [
    "# График длительности возможного голодания по шагам жизни агента"
   ]
  },
  {
   "cell_type": "code",
   "execution_count": 170,
   "metadata": {
    "collapsed": false
   },
   "outputs": [
    {
     "data": {
      "image/png": "[encoded data removed]",
      "text/plain": [
       "<matplotlib.figure.Figure at 0x1fb4b80a1d0>"
      ]
     },
     "metadata": {},
     "output_type": "display_data"
    }
   ],
   "source": [
    "import numpy as np\n",
    "from matplotlib import pyplot as plt\n",
    "%matplotlib inline\n",
    "\n",
    "t = np.arange(0, 940)\n",
    "plt.figure(figsize=(10, 7))\n",
    "plt.plot(t, x[:940], 'b')\n",
    "plt.show()"
   ]
  },
  {
   "cell_type": "markdown",
   "metadata": {
    "collapsed": true
   },
   "source": [
    "<h1>Определение запаса сил</h1>"
   ]
  },
  {
   "cell_type": "code",
   "execution_count": 171,
   "metadata": {
    "collapsed": false
   },
   "outputs": [
    {
     "name": "stdout",
     "output_type": "stream",
     "text": [
      "[   0.            0.            0.            0.            0.            0.\n",
      "    0.          126.09158429  123.67791368  121.26478644  118.85219994\n",
      "  116.44015157  114.02863874  111.61765888  109.20720941  106.79728778\n",
      "  104.38789146  101.97901793   99.57066468   97.16282921   94.75550904\n",
      "   92.3487017    89.94240475   87.53661573   85.13133223   82.72655184\n",
      "   80.32227214   77.91849077   75.51520534   73.11241349   70.7101129\n",
      "   68.30830121   65.90697612   63.50613531   61.1057765    58.70589742\n",
      "   56.30649578   53.90756934   51.50911586   49.11113312   46.7136189\n",
      "   44.316571     41.91998723   39.52386541   37.12820338   34.732999\n",
      "   32.33825013   29.94395463   27.5501104    25.15671533   22.76376734\n",
      "   20.37126435   17.9792043    15.58758513   13.19640481   10.8056613\n",
      "    8.41535259    6.02547668    3.63603157    1.24701529   -1.14157415\n",
      "    0.            0.            0.            0.            0.            0.\n",
      "    0.            0.            0.        ] 428\n"
     ]
    }
   ],
   "source": [
    "print(E[420:490], current_step)"
   ]
  },
  {
   "cell_type": "code",
   "execution_count": 172,
   "metadata": {
    "collapsed": false
   },
   "outputs": [
    {
     "data": {
      "image/png": "[encoded data removed]",
      "text/plain": [
       "<matplotlib.figure.Figure at 0x1fb4b814f28>"
      ]
     },
     "metadata": {},
     "output_type": "display_data"
    }
   ],
   "source": [
    "import numpy as np\n",
    "from matplotlib import pyplot as plt\n",
    "%matplotlib inline\n",
    "\n",
    "def theta_f(e, e_m):\n",
    "    return 1 - np.exp((-3*e)/(e_m - e))\n",
    "\n",
    "T = np.zeros(1000)\n",
    "for i in range(current_step, current_step + 60):\n",
    "    T[i] = theta_f(E[i], E_max[i])\n",
    "\n",
    "\n",
    "t = np.arange(0, 60)\n",
    "plt.figure(figsize=(10, 7))\n",
    "plt.plot(t, T[428:488], 'b')\n",
    "plt.show()"
   ]
  },
  {
   "cell_type": "markdown",
   "metadata": {},
   "source": [
    "Пусть значение до 30 шагов - приемлимое время, при котором выносливость не сильно уменьшается\n",
    "Запас сил до 0.8 не очень плохо"
   ]
  },
  {
   "cell_type": "code",
   "execution_count": 173,
   "metadata": {
    "collapsed": false
   },
   "outputs": [],
   "source": [
    "x = np.zeros(1000)\n",
    "\n",
    "for step in range(1, 1000):\n",
    "    Energy = np.zeros(1000)\n",
    "    Energy[step - 1] = E_max[step - 1]\n",
    "    for i in range(step, 1000):\n",
    "        Energy[i] = Energy[i-1] - epsilon_f(getAge(i))\n",
    "        T[i] = theta_f(Energy[i], E_max[i])\n",
    "        if T[i] <= 0.8:\n",
    "            x[step] = i - step\n",
    "            break"
   ]
  },
  {
   "cell_type": "code",
   "execution_count": 174,
   "metadata": {
    "collapsed": false
   },
   "outputs": [
    {
     "data": {
      "image/png": "[encoded data removed]",
      "text/plain": [
       "<matplotlib.figure.Figure at 0x1fb4a725f28>"
      ]
     },
     "metadata": {},
     "output_type": "display_data"
    }
   ],
   "source": [
    "import numpy as np\n",
    "from matplotlib import pyplot as plt\n",
    "%matplotlib inline\n",
    "\n",
    "t = np.arange(0, 940)\n",
    "plt.figure(figsize=(10, 7))\n",
    "plt.plot(t, x[:940], 'b')\n",
    "plt.show()"
   ]
  },
  {
   "cell_type": "markdown",
   "metadata": {},
   "source": [
    "На данном графике мы определили, через какое количество шагов агент начинает чувствовать снижение выносливости"
   ]
  },
  {
   "cell_type": "markdown",
   "metadata": {},
   "source": [
    "TODO: изучить кормление, питательность пищи"
   ]
  },
  {
   "cell_type": "markdown",
   "metadata": {
    "collapsed": true
   },
   "source": [
    "<h1> Определение питательности пищи </h1> "
   ]
  },
  {
   "cell_type": "code",
   "execution_count": 175,
   "metadata": {
    "collapsed": false
   },
   "outputs": [
    {
     "data": {
      "image/png": "[encoded data removed]",
      "text/plain": [
       "<matplotlib.figure.Figure at 0x1fb4b7bbda0>"
      ]
     },
     "metadata": {},
     "output_type": "display_data"
    }
   ],
   "source": [
    "def gamma_f(x):\n",
    "    x /= 7\n",
    "    return ((5*x**2) + (5*x))/(7*((x**2)+3))\n",
    "\n",
    "G = np.zeros(1000)\n",
    "for i in range(1000):\n",
    "    G[i] = gamma_f(getAge(i))\n",
    "\n",
    "\n",
    "t = np.arange(0, 1000)\n",
    "plt.figure(figsize=(10, 7))\n",
    "plt.plot(t, G, 'b')\n",
    "plt.show()"
   ]
  },
  {
   "cell_type": "code",
   "execution_count": 176,
   "metadata": {
    "collapsed": false
   },
   "outputs": [
    {
     "name": "stdout",
     "output_type": "stream",
     "text": [
      "34.0\n"
     ]
    }
   ],
   "source": [
    "print(x[428])"
   ]
  },
  {
   "cell_type": "code",
   "execution_count": 177,
   "metadata": {
    "collapsed": false
   },
   "outputs": [
    {
     "name": "stdout",
     "output_type": "stream",
     "text": [
      "41.9199872252\n"
     ]
    }
   ],
   "source": [
    "step_chernyaya_polosa = current_step + int(x[current_step])\n",
    "E_nepoevshi = E[step_chernyaya_polosa]\n",
    "print(E_nepoevshi)"
   ]
  },
  {
   "cell_type": "markdown",
   "metadata": {},
   "source": [
    "Кормим взрослого агента одной большой жертвой"
   ]
  },
  {
   "cell_type": "code",
   "execution_count": 178,
   "metadata": {
    "collapsed": false
   },
   "outputs": [
    {
     "name": "stdout",
     "output_type": "stream",
     "text": [
      "126.598284441\n"
     ]
    }
   ],
   "source": [
    "print(E_nepoevshi - epsilon_f(getAge(step_chernyaya_polosa)) + \\\n",
    "115*gamma_f(getAge(428)))"
   ]
  },
  {
   "cell_type": "markdown",
   "metadata": {},
   "source": [
    "Постулируем const $E_f$ = 115"
   ]
  },
  {
   "cell_type": "code",
   "execution_count": 179,
   "metadata": {
    "collapsed": false
   },
   "outputs": [
    {
     "name": "stdout",
     "output_type": "stream",
     "text": [
      "124.717288146\n"
     ]
    }
   ],
   "source": [
    "print(E_nepoevshi - epsilon_f(getAge(step_chernyaya_polosa))*5 + \\\n",
    "115*gamma_f(getAge(50))*5)"
   ]
  },
  {
   "cell_type": "markdown",
   "metadata": {},
   "source": [
    "Откуда вместо большой жертвы надо съесть 5 младенцев-жертв"
   ]
  },
  {
   "cell_type": "code",
   "execution_count": 180,
   "metadata": {
    "collapsed": false
   },
   "outputs": [
    {
     "name": "stdout",
     "output_type": "stream",
     "text": [
      "19.0\n"
     ]
    }
   ],
   "source": [
    "print(x[100]);"
   ]
  },
  {
   "cell_type": "code",
   "execution_count": 181,
   "metadata": {
    "collapsed": false
   },
   "outputs": [
    {
     "name": "stdout",
     "output_type": "stream",
     "text": [
      "75.0\n"
     ]
    }
   ],
   "source": [
    "print(E_max[100]);"
   ]
  },
  {
   "cell_type": "code",
   "execution_count": 205,
   "metadata": {
    "collapsed": false
   },
   "outputs": [
    {
     "name": "stdout",
     "output_type": "stream",
     "text": [
      "32.7416681971\n"
     ]
    }
   ],
   "source": [
    "step_chernyaya_polosa = 100 + int(x[100])\n",
    "E_nepoevshi = Ene[100]\n",
    "print(E_nepoevshi[100 + 19])"
   ]
  },
  {
   "cell_type": "code",
   "execution_count": 201,
   "metadata": {
    "collapsed": false
   },
   "outputs": [
    {
     "name": "stdout",
     "output_type": "stream",
     "text": [
      "117.547534284\n"
     ]
    }
   ],
   "source": [
    "print(E_nepoevshi[step_chernyaya_polosa] - epsilon_f(getAge(step_chernyaya_polosa)) + \\\n",
    "115*gamma_f(getAge(428)))"
   ]
  },
  {
   "cell_type": "code",
   "execution_count": 204,
   "metadata": {
    "collapsed": false
   },
   "outputs": [
    {
     "name": "stdout",
     "output_type": "stream",
     "text": [
      "78.9481180726\n"
     ]
    }
   ],
   "source": [
    "print(E_nepoevshi[step_chernyaya_polosa] - epsilon_f(getAge(step_chernyaya_polosa)) * 1 + \\\n",
    "115*gamma_f(getAge(119)) * 1)"
   ]
  },
  {
   "cell_type": "markdown",
   "metadata": {},
   "source": [
    "100-шаговый животное-ребенок наедается стошаговым ребенком"
   ]
  },
  {
   "cell_type": "code",
   "execution_count": null,
   "metadata": {
    "collapsed": true
   },
   "outputs": [],
   "source": []
  }
 ],
 "metadata": {
  "kernelspec": {
   "display_name": "Python 3",
   "language": "python",
   "name": "python3"
  },
  "language_info": {
   "codemirror_mode": {
    "name": "ipython",
    "version": 3
   },
   "file_extension": ".py",
   "mimetype": "text/x-python",
   "name": "python",
   "nbconvert_exporter": "python",
   "pygments_lexer": "ipython3",
   "version": "3.5.1"
  }
 },
 "nbformat": 4,
 "nbformat_minor": 0
}
