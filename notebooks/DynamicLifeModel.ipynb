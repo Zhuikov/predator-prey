{
 "cells": [
  {
   "cell_type": "markdown",
   "metadata": {},
   "source": [
    "# Модель жизненных сценариев"
   ]
  },
  {
   "cell_type": "markdown",
   "metadata": {},
   "source": [
    "Срок жизни животного 1000 шагов (что соответствует 70 лет человека)"
   ]
  },
  {
   "cell_type": "markdown",
   "metadata": {},
   "source": [
    "Создадим животное с возрастом, соответсвующим человеческим 30 годам"
   ]
  },
  {
   "cell_type": "code",
   "execution_count": 143,
   "metadata": {
    "collapsed": false
   },
   "outputs": [
    {
     "name": "stdout",
     "output_type": "stream",
     "text": [
      "Один шаг модели равняется  0.07  годам\n",
      "30\n"
     ]
    }
   ],
   "source": [
    "import math\n",
    "\n",
    "age = 30\n",
    "\n",
    "age_coef_const = 70 / 1000\n",
    "print(\"Один шаг модели равняется \", age_coef_const, \" годам\")\n",
    "\n",
    "current_step = math.trunc(age / age_coef_const)\n",
    "\n",
    "def getAge(step):\n",
    "    return 70 / 1000 * step\n",
    "    \n",
    "print(round(getAge(current_step)))"
   ]
  },
  {
   "cell_type": "markdown",
   "metadata": {},
   "source": [
    "Определим максимальную возможную энергию животного для текущего шага жизни животного\n",
    "\n",
    "Зададим константу $E_0$ равной 100"
   ]
  },
  {
   "cell_type": "code",
   "execution_count": 137,
   "metadata": {
    "collapsed": false
   },
   "outputs": [
    {
     "data": {
      "text/plain": [
       "126.08075652957069"
      ]
     },
     "execution_count": 137,
     "metadata": {},
     "output_type": "execute_result"
    }
   ],
   "source": [
    "import numpy as np\n",
    "\n",
    "E_max = np.zeros(1000)\n",
    "\n",
    "def lambda_f(x):\n",
    "    x= x/7\n",
    "    return ((x**2) + (2*x))/((x**2) + 3)\n",
    "\n",
    "E_0 = 100\n",
    "\n",
    "E_max[:] = lambda_f(getAge(np.arange(1000))) * E_0\n",
    "E_max[current_step]"
   ]
  },
  {
   "cell_type": "markdown",
   "metadata": {},
   "source": [
    "Просто выведем график максимальной энергии"
   ]
  },
  {
   "cell_type": "code",
   "execution_count": 139,
   "metadata": {
    "collapsed": false
   },
   "outputs": [
    {
     "data": {
      "image/png": "[encoded data removed]",
      "text/plain": [
       "<matplotlib.figure.Figure at 0x7fb3d48741d0>"
      ]
     },
     "metadata": {},
     "output_type": "display_data"
    }
   ],
   "source": [
    "import numpy as np\n",
    "from matplotlib import pyplot as plt\n",
    "%matplotlib inline\n",
    "\n",
    "t = np.arange(0, 1000)\n",
    "plt.figure(figsize=(10, 7))\n",
    "plt.plot(t, E_max, 'b')\n",
    "plt.show()"
   ]
  },
  {
   "cell_type": "markdown",
   "metadata": {},
   "source": [
    "Наделим животное максимальной энергией для текущего шага жизни"
   ]
  },
  {
   "cell_type": "code",
   "execution_count": 135,
   "metadata": {
    "collapsed": false
   },
   "outputs": [
    {
     "name": "stdout",
     "output_type": "stream",
     "text": [
      "2.99438358037 0.580712978289 -1.8329576238\n"
     ]
    }
   ],
   "source": [
    "import numpy as np\n",
    "\n",
    "E = np.zeros(1000)\n",
    "E[current_step -1] = E_max[current_step - 1]\n"
   ]
  },
  {
   "cell_type": "markdown",
   "metadata": {},
   "source": [
    "Запускаем случай голодания, когда животное не тратит время на передвижение, и не получает пищи"
   ]
  },
  {
   "cell_type": "code",
   "execution_count": 140,
   "metadata": {
    "collapsed": false
   },
   "outputs": [
    {
     "name": "stdout",
     "output_type": "stream",
     "text": [
      "2.99438358037 0.580712978289 -1.8329576238\n"
     ]
    }
   ],
   "source": [
    "def epsilon_f(x):\n",
    "    x = x/ 6\n",
    "    return (x**3)/((4.5*x**3) - (14*x**2) + 18*x - 0.1) + 2\n",
    "\n",
    "for i in range(current_step, current_step + 60):\n",
    "    E[i] = E[i-1] - epsilon_f(getAge(current_step))\n",
    "    \n",
    "print(E[current_step + 50], E[current_step + 51], E[current_step + 52])"
   ]
  },
  {
   "cell_type": "markdown",
   "metadata": {},
   "source": [
    "На шаге 52 голодания енергия животного переходит через ноль"
   ]
  },
  {
   "cell_type": "markdown",
   "metadata": {},
   "source": [
    "# График убывания энергии при голодании"
   ]
  },
  {
   "cell_type": "markdown",
   "metadata": {},
   "source": [
    "Животное не двигается, не ест, теряет энергию каждый шаг модели"
   ]
  },
  {
   "cell_type": "code",
   "execution_count": 142,
   "metadata": {
    "collapsed": false
   },
   "outputs": [
    {
     "data": {
      "image/png": "[encoded data removed]",
      "text/plain": [
       "<matplotlib.figure.Figure at 0x7fb3d4926908>"
      ]
     },
     "metadata": {},
     "output_type": "display_data"
    }
   ],
   "source": [
    "import numpy as np\n",
    "from matplotlib import pyplot as plt\n",
    "%matplotlib inline\n",
    "\n",
    "t = np.arange(0, 80)\n",
    "plt.figure(figsize=(10, 7))\n",
    "plt.plot(t, E[428:508], 'b')\n",
    "plt.show()"
   ]
  },
  {
   "cell_type": "code",
   "execution_count": null,
   "metadata": {
    "collapsed": true
   },
   "outputs": [],
   "source": []
  }
 ],
 "metadata": {
  "kernelspec": {
   "display_name": "Python 3",
   "language": "python",
   "name": "python3"
  },
  "language_info": {
   "codemirror_mode": {
    "name": "ipython",
    "version": 3
   },
   "file_extension": ".py",
   "mimetype": "text/x-python",
   "name": "python",
   "nbconvert_exporter": "python",
   "pygments_lexer": "ipython3",
   "version": "3.5.1"
  }
 },
 "nbformat": 4,
 "nbformat_minor": 0
}
