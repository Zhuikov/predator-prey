{
 "cells": [
  {
   "cell_type": "markdown",
   "metadata": {
    "collapsed": false
   },
   "source": [
    "# Запуск модели с фиксированными параметрами и различными значениями начального состояния псевдослучайного генератора"
   ]
  },
  {
   "cell_type": "markdown",
   "metadata": {},
   "source": [
    "* Запустим модель с указанием параметра S для получения количества шагов, пройденных моделью, в качестве возвращаемого значения\n",
    "* Создается модель на поле 3000x3000\n",
    "* Создаются 200 хищников и 200 жертв\n",
    "* Значения начального состояния псевдослучайного генератора итерируются от 0 до 1000\n",
    "\n",
    "Запуск модели осуществляется 1000 раз, в пуле отдельных процессов"
   ]
  },
  {
   "cell_type": "code",
   "execution_count": 8,
   "metadata": {
    "collapsed": false
   },
   "outputs": [],
   "source": [
    "from multiprocessing import Pool\n",
    "\n",
    "import ppmodel\n",
    "from ppmodel import ModelParams\n",
    "\n",
    "\n",
    "if __name__ == '__main__':\n",
    "    p = Pool(4)\n",
    "    params = []\n",
    "    for i in range(0, 100):\n",
    "        params.append(ModelParams(\"S\", 100, 100, 1, 1200, 125, 70, i))\n",
    "    steps = p.map(ppmodel.f, params)"
   ]
  },
  {
   "cell_type": "markdown",
   "metadata": {},
   "source": [
    "В массиве `steps` созранены результаты запуска модели\n"
   ]
  },
  {
   "cell_type": "code",
   "execution_count": 9,
   "metadata": {
    "collapsed": false
   },
   "outputs": [
    {
     "name": "stdout",
     "output_type": "stream",
     "text": [
      "[119, 204, 76, 82, 123, 108, 71, 118, 120, 121, 126, 137, 99, 96, 118, 117, 125, 107, 106, 106, 109, 133, 108, 113, 71, 101, 128, 100, 119, 71, 148, 76, 98, 72, 107, 71, 125, 123, 118, 120, 100, 98, 94, 98, 120, 107, 106, 112, 141, 121, 120, 120, 71, 83, 131, 100, 91, 99, 121, 124, 120, 100, 128, 71, 92, 109, 108, 120, 126, 98, 96, 112, 126, 78, 75, 112, 71, 143, 83, 82, 72, 105, 109, 122, 72, 104, 142, 94, 73, 71, 129, 114, 114, 102, 122, 122, 146, 104, 131, 104]\n"
     ]
    }
   ],
   "source": [
    "import numpy as np\n",
    "\n",
    "print(steps)\n",
    "n_bins = int(np.ceil(np.sqrt(len(steps))))\n",
    "sigma = np.std(steps)\n",
    "mu = np.mean(steps)"
   ]
  },
  {
   "cell_type": "markdown",
   "metadata": {},
   "source": [
    "# Гистограмма распределения длительности жизни модели"
   ]
  },
  {
   "cell_type": "markdown",
   "metadata": {},
   "source": [
    "Построим гистограмму распределения вероятности длительности жизни модели"
   ]
  },
  {
   "cell_type": "code",
   "execution_count": 10,
   "metadata": {
    "collapsed": false
   },
   "outputs": [
    {
     "data": {
      "image/png": "[encoded data removed]",
      "text/plain": [
       "<matplotlib.figure.Figure at 0x18107ba2860>"
      ]
     },
     "metadata": {},
     "output_type": "display_data"
    },
    {
     "name": "stdout",
     "output_type": "stream",
     "text": [
      "Maximum: 204 steps\n",
      "Maximum: 71 steps\n"
     ]
    }
   ],
   "source": [
    "import matplotlib.mlab as mlab\n",
    "import matplotlib.pyplot as plt\n",
    "%matplotlib inline\n",
    "\n",
    "\n",
    "plt.figure(figsize=(10, 10))\n",
    "n, bins, patches = plt.hist(steps, n_bins, normed=True, color=\"green\", alpha=0.7,)\n",
    "\n",
    "norm_pdf = mlab.normpdf(bins, mu, sigma)\n",
    "\n",
    "plt.plot(bins, norm_pdf, \"r--\", label=\"Normal distribution\")\n",
    "plt.ylabel(\"Probability\")\n",
    "plt.xlabel(\"Steps\")\n",
    "plt.legend()\n",
    "plt.show()\n",
    "\n",
    "print(\"Maximum: %i steps\" % (max(steps)))\n",
    "print(\"Maximum: %i steps\" % (min(steps)))"
   ]
  },
  {
   "cell_type": "code",
   "execution_count": null,
   "metadata": {
    "collapsed": true
   },
   "outputs": [],
   "source": []
  }
 ],
 "metadata": {
  "kernelspec": {
   "display_name": "Python 3",
   "language": "python",
   "name": "python3"
  },
  "language_info": {
   "codemirror_mode": {
    "name": "ipython",
    "version": 3
   },
   "file_extension": ".py",
   "mimetype": "text/x-python",
   "name": "python",
   "nbconvert_exporter": "python",
   "pygments_lexer": "ipython3",
   "version": "3.5.1"
  }
 },
 "nbformat": 4,
 "nbformat_minor": 0
}
