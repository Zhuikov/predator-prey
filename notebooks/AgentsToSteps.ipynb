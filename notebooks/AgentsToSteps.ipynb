{
 "cells": [
  {
   "cell_type": "markdown",
   "metadata": {
    "collapsed": false
   },
   "source": [
    "# Запуск модели и сохранение полученных данных"
   ]
  },
  {
   "cell_type": "markdown",
   "metadata": {},
   "source": [
    "* Запустим модель с указанием параметра L для создания файла содержащего количество хищников и жертв на каждом шаге работы\n",
    "* Создается модель на поле 3000x3000\n",
    "* Создаются 200 хищников и 200 жертв"
   ]
  },
  {
   "cell_type": "code",
   "execution_count": 41,
   "metadata": {
    "collapsed": false
   },
   "outputs": [],
   "source": [
    "import ppmodel\n",
    "\n",
    "predators, preys, grass, steps = ppmodel.start_model(\"L\", 500, 500, 100, 3, 85000, 100, 683)"
   ]
  },
  {
   "cell_type": "markdown",
   "metadata": {},
   "source": [
    "# График соотношения агентов (хищников и жертв) по шагам модели"
   ]
  },
  {
   "cell_type": "code",
   "execution_count": 45,
   "metadata": {
    "collapsed": false
   },
   "outputs": [
    {
     "data": {
      "image/png": "[encoded data removed]",
      "text/plain": [
       "<matplotlib.figure.Figure at 0x1c789bad940>"
      ]
     },
     "metadata": {},
     "output_type": "display_data"
    }
   ],
   "source": [
    "import matplotlib.pyplot as plt\n",
    "import numpy as np\n",
    "%matplotlib inline\n",
    "\n",
    "t = np.arange(0, steps + 1)\n",
    "plt.figure(figsize=(6, 6))\n",
    "plt.plot(t, predators, \"r\", label=\"Predators\")\n",
    "plt.plot(t, preys, \"b\", label=\"Preys\")\n",
    "#plt.plot(t, grass, \"g\", label=\"Grass\")\n",
    "plt.ylim([0, max(predators + preys) * 1.2])\n",
    "plt.ylabel(\"Agents\")\n",
    "plt.xlabel(\"Steps\")\n",
    "plt.legend(loc='upper center', bbox_to_anchor=(0.5, 1.05), shadow=True, ncol=3)\n",
    "plt.show()"
   ]
  },
  {
   "cell_type": "code",
   "execution_count": null,
   "metadata": {
    "collapsed": true
   },
   "outputs": [],
   "source": []
  },
  {
   "cell_type": "code",
   "execution_count": null,
   "metadata": {
    "collapsed": true
   },
   "outputs": [],
   "source": []
  }
 ],
 "metadata": {
  "kernelspec": {
   "display_name": "Python 3",
   "language": "python",
   "name": "python3"
  },
  "language_info": {
   "codemirror_mode": {
    "name": "ipython",
    "version": 3
   },
   "file_extension": ".py",
   "mimetype": "text/x-python",
   "name": "python",
   "nbconvert_exporter": "python",
   "pygments_lexer": "ipython3",
   "version": "3.5.1"
  }
 },
 "nbformat": 4,
 "nbformat_minor": 0
}
