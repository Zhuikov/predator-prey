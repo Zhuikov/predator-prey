{
 "cells": [
  {
   "cell_type": "code",
   "execution_count": 1,
   "metadata": {
    "collapsed": false
   },
   "outputs": [
    {
     "name": "stdout",
     "output_type": "stream",
     "text": [
      "[ 2  4  6  8 10 12 14 16 18 20 22 24 26 28 30 32 34 36 38 40 42 44 46 48 50\n",
      " 52 54 56 58 60 62 64 66 68 70]\n",
      "[  2   4   6   8  10  12  14  16  18  20  22  24  26  28  30  32  34  36\n",
      "  38  40  42  44  46  48  50  52  54  56  58  60  62  64  66  68  70  72\n",
      "  74  76  78  80  82  84  86  88  90  92  94  96  98 100 102 104 106 108\n",
      " 110 112 114 116 118 120 122 124 126 128 130 132 134 136 138 140 142 144\n",
      " 146 148 150 152 154 156 158 160 162 164 166 168 170 172 174 176 178 180\n",
      " 182 184 186 188 190 192 194 196 198 200]\n"
     ]
    }
   ],
   "source": [
    "import numpy as np\n",
    "\n",
    "n_d = 1\n",
    "n_y = 1800\n",
    "\n",
    "interval = np.arange(2, 71, 2)\n",
    "\n",
    "amount = np.arange(2, 201, 2)\n",
    "\n",
    "print(interval)\n",
    "print(amount)"
   ]
  },
  {
   "cell_type": "code",
   "execution_count": 2,
   "metadata": {
    "collapsed": false
   },
   "outputs": [
    {
     "name": "stdout",
     "output_type": "stream",
     "text": [
      "3500\n"
     ]
    }
   ],
   "source": [
    "from ppmodel import ModelParams\n",
    "\n",
    "params = []\n",
    "args = [[],[]]\n",
    "\n",
    "for a in amount:\n",
    "    for i in interval:\n",
    "        args[0].append(a)\n",
    "        args[1].append(i)\n",
    "        params.append(ModelParams(\"S\", 100, 100, n_d, n_y, a, i, 2))\n",
    "        \n",
    "print(len(params))"
   ]
  },
  {
   "cell_type": "code",
   "execution_count": null,
   "metadata": {
    "collapsed": true
   },
   "outputs": [],
   "source": [
    "import ppmodel\n",
    "\n",
    "from multiprocessing import Pool \n",
    "\n",
    "\n",
    "data = []\n",
    "\n",
    "if __name__ == '__main__':\n",
    "\n",
    "    p = Pool(5)\n",
    "\n",
    "    data = p.map(ppmodel.f, params)"
   ]
  },
  {
   "cell_type": "code",
   "execution_count": null,
   "metadata": {
    "collapsed": true
   },
   "outputs": [],
   "source": []
  }
 ],
 "metadata": {
  "kernelspec": {
   "display_name": "Python 3",
   "language": "python",
   "name": "python3"
  },
  "language_info": {
   "codemirror_mode": {
    "name": "ipython",
    "version": 3
   },
   "file_extension": ".py",
   "mimetype": "text/x-python",
   "name": "python",
   "nbconvert_exporter": "python",
   "pygments_lexer": "ipython3",
   "version": "3.5.1"
  }
 },
 "nbformat": 4,
 "nbformat_minor": 0
}
