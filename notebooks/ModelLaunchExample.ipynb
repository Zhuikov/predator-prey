{
 "cells": [
  {
   "cell_type": "markdown",
   "metadata": {
    "collapsed": true
   },
   "source": [
    "# Запуск модели и сохранение полученных данных"
   ]
  },
  {
   "cell_type": "code",
   "execution_count": 41,
   "metadata": {
    "collapsed": false
   },
   "outputs": [
    {
     "name": "stdout",
     "output_type": "stream",
     "text": [
      "[1000, 1000, 1002, 1003, 1007, 1011, 1016, 1021, 1026, 1029, 1034, 1037, 1041, 1047, 1055, 1058, 1066, 1073, 1074, 1078, 441, 380, 361, 341, 312, 292, 277, 262, 246, 232, 210, 196, 180, 164, 146, 135, 114, 98, 86, 74, 61, 57, 50, 47, 45, 38, 33, 30, 28, 25, 25, 23, 21, 21, 19, 17, 14, 12, 12, 12, 11, 8, 6, 6, 4, 4, 4, 4, 4, 4, 4, 3, 1, 1, 1, 1, 1, 1, 1, 1, 1, 0]\n[1000, 913, 884, 857, 825, 797, 775, 754, 732, 714, 690, 674, 653, 635, 618, 606, 584, 568, 556, 542, 528, 523, 517, 514, 510, 505, 501, 497, 496, 492, 492, 491, 489, 489, 487, 484, 482, 480, 480, 479, 477, 475, 473, 473, 472, 472, 472, 472, 472, 472, 472, 471, 470, 470, 470, 470, 470, 470, 470, 470, 470, 469, 469, 469, 469, 469, 469, 469, 469, 469, 469, 469, 469, 469, 469, 469, 469, 469, 469, 469, 469, 469]\n"
     ]
    }
   ],
   "source": [
    "import subprocess\n",
    "import matplotlib.pyplot as plt\n",
    "%matplotlib inline\n",
    "\n",
    "mode = \"L\"\n",
    "height = \"200\"\n",
    "width = \"200\"\n",
    "n_preys = \"1000\"\n",
    "n_predators = \"1000\"\n",
    "seed = \"4142\"\n",
    "\n",
    "subprocess.run([\"pp-model\", mode, width, height, n_predators, n_preys, seed], stdout=subprocess.PIPE)\n",
    "\n",
    "filename = '%sx%s_%s_%s_%s.csv' % (width, height, n_predators, n_preys, seed)\n",
    "f = open(filename, 'r')\n",
    "\n",
    "predators = []\n",
    "preys = []\n",
    "\n",
    "for line in f:\n",
    "    data = line.split(',')\n",
    "    predators.append(int(data[1]))\n",
    "    preys.append(int(data[2]))\n",
    "print(predators)\n",
    "print(preys)"
   ]
  },
  {
   "cell_type": "markdown",
   "metadata": {},
   "source": [
    "# Анализ данных и построение графика завсимости количества агентов в моделе от числа шагов"
   ]
  },
  {
   "cell_type": "code",
   "execution_count": 42,
   "metadata": {
    "collapsed": false
   },
   "outputs": [
    {
     "data": {
      "image/png": "[encoded data removed]",
      "text/plain": [
       "<matplotlib.figure.Figure at 0x7f0c5afd5128>"
      ]
     },
     "metadata": {},
     "output_type": "display_data"
    }
   ],
   "source": [
    "import matplotlib.pyplot as plt\n",
    "import numpy as np\n",
    "%matplotlib inline\n",
    "\n",
    "t = np.arange(0, len(predators))\n",
    "plt.plot(t, predators, \"r\", label=\"Predators\")\n",
    "plt.plot(t, preys, \"b\", label=\"Preys\")\n",
    "plt.ylim([0, max(predators + preys) * 1.2])\n",
    "plt.ylabel(\"Agents\")\n",
    "plt.xlabel(\"Steps\")\n",
    "plt.legend(loc='upper center', bbox_to_anchor=(0.5, 1.05), shadow=True, ncol=2)\n",
    "plt.show()"
   ]
  },
  {
   "cell_type": "code",
   "execution_count": null,
   "metadata": {},
   "outputs": [],
   "source": [
    ""
   ]
  },
  {
   "cell_type": "code",
   "execution_count": null,
   "metadata": {},
   "outputs": [],
   "source": [
    ""
   ]
  }
 ],
 "metadata": {
  "kernelspec": {
   "display_name": "Python 3",
   "language": "python",
   "name": "python3"
  },
  "language_info": {
   "codemirror_mode": {
    "name": "ipython",
    "version": 3.0
   },
   "file_extension": ".py",
   "mimetype": "text/x-python",
   "name": "python",
   "nbconvert_exporter": "python",
   "pygments_lexer": "ipython3",
   "version": "3.5.1"
  }
 },
 "nbformat": 4,
 "nbformat_minor": 0
}