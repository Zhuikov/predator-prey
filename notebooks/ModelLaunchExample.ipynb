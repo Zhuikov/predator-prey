{
 "cells": [
  {
   "cell_type": "code",
   "execution_count": 5,
   "metadata": {
    "collapsed": false
   },
   "outputs": [
    {
     "data": {
      "text/plain": [
       "'0,3,3\\n1,3,2\\n2,3,2\\n3,3,2\\n4,3,2\\n5,3,2\\n6,3,2\\n7,3,2\\n8,3,2\\n9,3,2\\n10,3,2\\n11,3,2\\n12,3,1\\n13,3,1\\n14,3,1\\n15,3,1\\n16,3,1\\n17,3,1\\n18,3,1\\n19,3,1\\n20,2,1\\n21,1,1\\n22,1,1\\n23,1,1\\n24,1,1\\n25,1,1\\n26,1,1\\n27,1,1\\n28,1,1\\n29,1,1\\n30,1,1\\n31,1,1\\n32,0,1\\n'"
      ]
     },
     "execution_count": 5,
     "metadata": {},
     "output_type": "execute_result"
    }
   ],
   "source": [
    "import subprocess\n",
    "\n",
    "subprocess.run([\"pp-model\", \"10\", \"10\", \"3\", \"3\"], stdout=subprocess.PIPE)\n",
    "\n",
    "f = open('data.csv', 'r')\n",
    "\n",
    "f.read()"
   ]
  },
  {
   "cell_type": "code",
   "execution_count": null,
   "metadata": {
    "collapsed": true
   },
   "outputs": [],
   "source": []
  }
 ],
 "metadata": {
  "kernelspec": {
   "display_name": "Python 3",
   "language": "python",
   "name": "python3"
  },
  "language_info": {
   "codemirror_mode": {
    "name": "ipython",
    "version": 3
   },
   "file_extension": ".py",
   "mimetype": "text/x-python",
   "name": "python",
   "nbconvert_exporter": "python",
   "pygments_lexer": "ipython3",
   "version": "3.5.1"
  }
 },
 "nbformat": 4,
 "nbformat_minor": 0
}
