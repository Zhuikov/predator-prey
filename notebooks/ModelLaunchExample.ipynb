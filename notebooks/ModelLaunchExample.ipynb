{
 "cells": [
  {
   "cell_type": "markdown",
   "metadata": {
    "collapsed": true
   },
   "source": [
    "# Запуск модели и сохранение полученных данных"
   ]
  },
  {
   "cell_type": "code",
   "execution_count": 24,
   "metadata": {
    "collapsed": false
   },
   "outputs": [],
   "source": [
    "import subprocess\n",
    "\n",
    "def start_model(mode, height, width, n_preys, n_predators, seed):\n",
    "    \n",
    "    height = str(height)\n",
    "    width = str(width)\n",
    "    n_preys = str(n_preys)\n",
    "    n_predators = str(n_predators)\n",
    "    seed = str(seed)\n",
    "    \n",
    "    model = subprocess.run([\"pp-model\", mode, width, height, n_predators, n_preys, seed], stdout=subprocess.PIPE)\n",
    "    return_code = model.returncode\n",
    "    filename = '%sx%s_%s_%s_%s.csv' % (width, height, n_predators, n_preys, seed)\n",
    "    f = open(filename, 'r')\n",
    "    \n",
    "    if mode == \"L\":\n",
    "        predators = []\n",
    "        preys = []\n",
    "\n",
    "        for line in f:\n",
    "            data = line.split(',')\n",
    "            predators.append(int(data[1]))\n",
    "            preys.append(int(data[2]))\n",
    "        return predators, preys, return_code\n",
    "    else:\n",
    "        return return_code\n",
    "\n",
    "predators, preys, steps = start_model(\"L\", 200, 200, 3000, 3000, 13)"
   ]
  },
  {
   "cell_type": "markdown",
   "metadata": {},
   "source": [
    "# Анализ данных и построение графика завсимости количества агентов в моделе от числа шагов"
   ]
  },
  {
   "cell_type": "code",
   "execution_count": 25,
   "metadata": {
    "collapsed": false
   },
   "outputs": [
    {
     "data": {
      "image/png": "[encoded data removed]",
      "text/plain": [
       "<matplotlib.figure.Figure at 0x7f5c8226fe48>"
      ]
     },
     "metadata": {},
     "output_type": "display_data"
    }
   ],
   "source": [
    "import matplotlib.pyplot as plt\n",
    "import numpy as np\n",
    "%matplotlib inline\n",
    "\n",
    "t = np.arange(0, steps + 1)\n",
    "plt.plot(t, predators, \"r\", label=\"Predators\")\n",
    "plt.plot(t, preys, \"b\", label=\"Preys\")\n",
    "plt.ylim([0, max(predators + preys) * 1.2])\n",
    "plt.ylabel(\"Agents\")\n",
    "plt.xlabel(\"Steps\")\n",
    "plt.legend(loc='upper center', bbox_to_anchor=(0.5, 1.05), shadow=True, ncol=2)\n",
    "plt.show()"
   ]
  },
  {
   "cell_type": "markdown",
   "metadata": {},
   "source": [
    ""
   ]
  },
  {
   "cell_type": "code",
   "execution_count": null,
   "metadata": {},
   "outputs": [],
   "source": [
    ""
   ]
  },
  {
   "cell_type": "code",
   "execution_count": null,
   "metadata": {},
   "outputs": [],
   "source": [
    ""
   ]
  }
 ],
 "metadata": {
  "kernelspec": {
   "display_name": "Python 3",
   "language": "python",
   "name": "python3"
  },
  "language_info": {
   "codemirror_mode": {
    "name": "ipython",
    "version": 3.0
   },
   "file_extension": ".py",
   "mimetype": "text/x-python",
   "name": "python",
   "nbconvert_exporter": "python",
   "pygments_lexer": "ipython3",
   "version": "3.5.1"
  }
 },
 "nbformat": 4,
 "nbformat_minor": 0
}