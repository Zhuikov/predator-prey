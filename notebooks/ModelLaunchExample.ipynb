{
 "cells": [
  {
   "cell_type": "markdown",
   "metadata": {
    "collapsed": true
   },
   "source": [
    "# Запуск модели и сохранение полученных данных"
   ]
  },
  {
   "cell_type": "code",
   "execution_count": 27,
   "metadata": {
    "collapsed": false
   },
   "outputs": [],
   "source": [
    "import subprocess\n",
    "\n",
    "\n",
    "def start_model(mode, height, width, n_preys, n_predators, seed):\n",
    "    \n",
    "    height = str(height)\n",
    "    width = str(width)\n",
    "    n_preys = str(n_preys)\n",
    "    n_predators = str(n_predators)\n",
    "    seed = str(seed)\n",
    "    \n",
    "    model = subprocess.run([\"pp-model\", mode, width, height, n_predators, n_preys, seed], stdout=subprocess.PIPE)\n",
    "    return_code = model.returncode\n",
    "    \n",
    "    if mode == \"L\":\n",
    "        \n",
    "        filename = '%sx%s_%s_%s_%s.csv' % (width, height, n_predators, n_preys, seed)\n",
    "        f = open(filename, 'r')\n",
    "        \n",
    "        predators = []\n",
    "        preys = []\n",
    "\n",
    "        for line in f:\n",
    "            data = line.split(',')\n",
    "            predators.append(int(data[1]))\n",
    "            preys.append(int(data[2]))\n",
    "        return predators, preys, return_code\n",
    "    \n",
    "    else:\n",
    "        return return_code\n",
    "\n",
    "predators, preys, steps = start_model(\"L\", 200, 200, 3000, 3000, 13)"
   ]
  },
  {
   "cell_type": "markdown",
   "metadata": {},
   "source": [
    "# Анализ данных и построение графика завсимости количества агентов в моделе от числа шагов"
   ]
  },
  {
   "cell_type": "code",
   "execution_count": 28,
   "metadata": {
    "collapsed": false
   },
   "outputs": [
    {
     "data": {
      "image/png": "[encoded data removed]",
      "text/plain": [
       "<matplotlib.figure.Figure at 0x7f5c8268b630>"
      ]
     },
     "metadata": {},
     "output_type": "display_data"
    }
   ],
   "source": [
    "import matplotlib.pyplot as plt\n",
    "import numpy as np\n",
    "%matplotlib inline\n",
    "\n",
    "t = np.arange(0, steps + 1)\n",
    "plt.plot(t, predators, \"r\", label=\"Predators\")\n",
    "plt.plot(t, preys, \"b\", label=\"Preys\")\n",
    "plt.ylim([0, max(predators + preys) * 1.2])\n",
    "plt.ylabel(\"Agents\")\n",
    "plt.xlabel(\"Steps\")\n",
    "plt.legend(loc='upper center', bbox_to_anchor=(0.5, 1.05), shadow=True, ncol=2)\n",
    "plt.show()"
   ]
  },
  {
   "cell_type": "markdown",
   "metadata": {},
   "source": [
    "# Запуск модели с одинаковыми параметрами и разными псевдослучайными последовательностями, сбор информации о времени ее жизни"
   ]
  },
  {
   "cell_type": "markdown",
   "metadata": {},
   "source": [
    ""
   ]
  },
  {
   "cell_type": "code",
   "execution_count": 62,
   "metadata": {},
   "outputs": [
    {
     "name": "stdout",
     "output_type": "stream",
     "text": [
      "[68, 68, 65, 93, 69, 71, 70, 67, 71, 85, 80, 86, 73, 69, 65, 67, 60, 98, 71, 67, 65, 82, 66, 81, 76, 82, 69, 70, 82, 78, 71, 61, 81, 70, 71, 69, 78, 68, 59, 72, 70, 75, 69, 66, 73, 61, 74, 74, 61, 85, 70, 81, 65, 64, 70, 70, 65, 68, 68, 59, 65, 80, 71, 70, 71, 79, 68, 68, 62, 80, 74, 69, 75, 66, 114, 69, 67, 67, 70, 71, 62, 66, 70, 71, 68, 69, 72, 72, 67, 68, 72, 82, 91, 72, 71, 67, 74, 67, 83, 67]\n"
     ]
    }
   ],
   "source": [
    "steps = []\n",
    "for seed in range(0, 100):\n",
    "    steps.append(start_model(\"S\", 200, 200, 3000, 3000, seed))\n",
    "print(steps)"
   ]
  },
  {
   "cell_type": "markdown",
   "metadata": {},
   "source": [
    "# Обработка полученных данных, построение гистограммы показывающей вероятность значений времени жизни модели  "
   ]
  },
  {
   "cell_type": "code",
   "execution_count": 65,
   "metadata": {},
   "outputs": [
    {
     "data": {
      "image/png": "[encoded data removed]",
      "text/plain": [
       "<matplotlib.figure.Figure at 0x7f5c81d481d0>"
      ]
     },
     "metadata": {},
     "output_type": "display_data"
    }
   ],
   "source": [
    "import matplotlib.mlab as mlab\n",
    "\n",
    "sorted(steps)\n",
    "n_bins = int(np.ceil(np.sqrt(len(steps))))\n",
    "sigma = np.std(steps)\n",
    "mu = np.mean(steps)\n",
    "\n",
    "n, bins, patches = plt.hist(steps, n_bins, normed=True, color=\"green\", alpha=0.7,)\n",
    "\n",
    "norm_pdf = mlab.normpdf(bins, mu, sigma)\n",
    "\n",
    "plt.plot(bins, norm_pdf, \"r--\", label=\"Normal distribution\")\n",
    "plt.legend()\n",
    "plt.show()"
   ]
  },
  {
   "cell_type": "code",
   "execution_count": null,
   "metadata": {},
   "outputs": [],
   "source": [
    ""
   ]
  }
 ],
 "metadata": {
  "kernelspec": {
   "display_name": "Python 3",
   "language": "python",
   "name": "python3"
  },
  "language_info": {
   "codemirror_mode": {
    "name": "ipython",
    "version": 3.0
   },
   "file_extension": ".py",
   "mimetype": "text/x-python",
   "name": "python",
   "nbconvert_exporter": "python",
   "pygments_lexer": "ipython3",
   "version": "3.5.1"
  }
 },
 "nbformat": 4,
 "nbformat_minor": 0
}