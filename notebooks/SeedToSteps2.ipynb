{
 "cells": [
  {
   "cell_type": "code",
   "execution_count": null,
   "metadata": {
    "collapsed": true
   },
   "outputs": [],
   "source": [
    "import ppmodel\n",
    "steps = []\n",
    "\n",
    "for seed in range(0, 1000):\n",
    "    steps.append(ppmodel.start_model(\"S\", 200, 200, 3000, 3000, seed))"
   ]
  },
  {
   "cell_type": "code",
   "execution_count": null,
   "metadata": {
    "collapsed": true
   },
   "outputs": [],
   "source": [
    "import matplotlib.mlab as mlab\n",
    "\n",
    "sorted(steps)\n",
    "n_bins = int(np.ceil(np.sqrt(len(steps))))\n",
    "sigma = np.std(steps)\n",
    "mu = np.mean(steps)\n",
    "\n",
    "plt.figure(figsize=(10, 10))\n",
    "n, bins, patches = plt.hist(steps, n_bins, normed=True, color=\"green\", alpha=0.7,)\n",
    "\n",
    "norm_pdf = mlab.normpdf(bins, mu, sigma)\n",
    "\n",
    "plt.plot(bins, norm_pdf, \"r--\", label=\"Normal distribution\")\n",
    "plt.ylabel(\"Probability\")\n",
    "plt.xlabel(\"Steps\")\n",
    "plt.legend()\n",
    "plt.show()\n",
    "\n",
    "print(\"Maximum: %i steps\" % (max(steps)))"
   ]
  }
 ],
 "metadata": {
  "kernelspec": {
   "display_name": "Python 3",
   "language": "python",
   "name": "python3"
  },
  "language_info": {
   "codemirror_mode": {
    "name": "ipython",
    "version": 3
   },
   "file_extension": ".py",
   "mimetype": "text/x-python",
   "name": "python",
   "nbconvert_exporter": "python",
   "pygments_lexer": "ipython3",
   "version": "3.5.1"
  }
 },
 "nbformat": 4,
 "nbformat_minor": 0
}
